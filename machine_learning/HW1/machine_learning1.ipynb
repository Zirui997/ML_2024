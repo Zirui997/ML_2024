{
 "cells": [
  {
   "cell_type": "markdown",
   "id": "5e192195-55a7-427d-95f8-0662f7567d15",
   "metadata": {},
   "source": [
    "# Part A"
   ]
  },
  {
   "cell_type": "markdown",
   "id": "ba7ee3f1-86e8-418a-9c40-23607b2d0cee",
   "metadata": {},
   "source": [
    "## Importing the dataset"
   ]
  },
  {
   "cell_type": "code",
   "execution_count": 1,
   "id": "37dbc270-75f2-47bc-a364-14b44957acc5",
   "metadata": {},
   "outputs": [],
   "source": [
    "import pandas as pd\n",
    "\n",
    "#Import the file from github using the link given\n",
    "url = \"https://vincentarelbundock.github.io/Rdatasets/csv/datasets/mtcars.csv\"\n",
    "mtcars = pd.read_csv(url)"
   ]
  },
  {
   "cell_type": "markdown",
   "id": "e97a3f60-e44b-4f9c-a084-e8ba1ca8eb30",
   "metadata": {},
   "source": [
    "## Displaying the head of the top 5 rows"
   ]
  },
  {
   "cell_type": "code",
   "execution_count": 4,
   "id": "5110da92-41d3-49da-aed1-2cd0909d8345",
   "metadata": {},
   "outputs": [
    {
     "data": {
      "text/html": [
       "<div>\n",
       "<style scoped>\n",
       "    .dataframe tbody tr th:only-of-type {\n",
       "        vertical-align: middle;\n",
       "    }\n",
       "\n",
       "    .dataframe tbody tr th {\n",
       "        vertical-align: top;\n",
       "    }\n",
       "\n",
       "    .dataframe thead th {\n",
       "        text-align: right;\n",
       "    }\n",
       "</style>\n",
       "<table border=\"1\" class=\"dataframe\">\n",
       "  <thead>\n",
       "    <tr style=\"text-align: right;\">\n",
       "      <th></th>\n",
       "      <th>rownames</th>\n",
       "      <th>mpg</th>\n",
       "      <th>cyl</th>\n",
       "      <th>disp</th>\n",
       "      <th>hp</th>\n",
       "      <th>drat</th>\n",
       "      <th>wt</th>\n",
       "      <th>qsec</th>\n",
       "      <th>vs</th>\n",
       "      <th>am</th>\n",
       "      <th>gear</th>\n",
       "      <th>carb</th>\n",
       "    </tr>\n",
       "  </thead>\n",
       "  <tbody>\n",
       "    <tr>\n",
       "      <th>0</th>\n",
       "      <td>Mazda RX4</td>\n",
       "      <td>21.0</td>\n",
       "      <td>6</td>\n",
       "      <td>160.0</td>\n",
       "      <td>110</td>\n",
       "      <td>3.90</td>\n",
       "      <td>2.620</td>\n",
       "      <td>16.46</td>\n",
       "      <td>0</td>\n",
       "      <td>1</td>\n",
       "      <td>4</td>\n",
       "      <td>4</td>\n",
       "    </tr>\n",
       "    <tr>\n",
       "      <th>1</th>\n",
       "      <td>Mazda RX4 Wag</td>\n",
       "      <td>21.0</td>\n",
       "      <td>6</td>\n",
       "      <td>160.0</td>\n",
       "      <td>110</td>\n",
       "      <td>3.90</td>\n",
       "      <td>2.875</td>\n",
       "      <td>17.02</td>\n",
       "      <td>0</td>\n",
       "      <td>1</td>\n",
       "      <td>4</td>\n",
       "      <td>4</td>\n",
       "    </tr>\n",
       "    <tr>\n",
       "      <th>2</th>\n",
       "      <td>Datsun 710</td>\n",
       "      <td>22.8</td>\n",
       "      <td>4</td>\n",
       "      <td>108.0</td>\n",
       "      <td>93</td>\n",
       "      <td>3.85</td>\n",
       "      <td>2.320</td>\n",
       "      <td>18.61</td>\n",
       "      <td>1</td>\n",
       "      <td>1</td>\n",
       "      <td>4</td>\n",
       "      <td>1</td>\n",
       "    </tr>\n",
       "    <tr>\n",
       "      <th>3</th>\n",
       "      <td>Hornet 4 Drive</td>\n",
       "      <td>21.4</td>\n",
       "      <td>6</td>\n",
       "      <td>258.0</td>\n",
       "      <td>110</td>\n",
       "      <td>3.08</td>\n",
       "      <td>3.215</td>\n",
       "      <td>19.44</td>\n",
       "      <td>1</td>\n",
       "      <td>0</td>\n",
       "      <td>3</td>\n",
       "      <td>1</td>\n",
       "    </tr>\n",
       "    <tr>\n",
       "      <th>4</th>\n",
       "      <td>Hornet Sportabout</td>\n",
       "      <td>18.7</td>\n",
       "      <td>8</td>\n",
       "      <td>360.0</td>\n",
       "      <td>175</td>\n",
       "      <td>3.15</td>\n",
       "      <td>3.440</td>\n",
       "      <td>17.02</td>\n",
       "      <td>0</td>\n",
       "      <td>0</td>\n",
       "      <td>3</td>\n",
       "      <td>2</td>\n",
       "    </tr>\n",
       "  </tbody>\n",
       "</table>\n",
       "</div>"
      ],
      "text/plain": [
       "            rownames   mpg  cyl   disp   hp  drat     wt   qsec  vs  am  gear  \\\n",
       "0          Mazda RX4  21.0    6  160.0  110  3.90  2.620  16.46   0   1     4   \n",
       "1      Mazda RX4 Wag  21.0    6  160.0  110  3.90  2.875  17.02   0   1     4   \n",
       "2         Datsun 710  22.8    4  108.0   93  3.85  2.320  18.61   1   1     4   \n",
       "3     Hornet 4 Drive  21.4    6  258.0  110  3.08  3.215  19.44   1   0     3   \n",
       "4  Hornet Sportabout  18.7    8  360.0  175  3.15  3.440  17.02   0   0     3   \n",
       "\n",
       "   carb  \n",
       "0     4  \n",
       "1     4  \n",
       "2     1  \n",
       "3     1  \n",
       "4     2  "
      ]
     },
     "execution_count": 4,
     "metadata": {},
     "output_type": "execute_result"
    }
   ],
   "source": [
    "mtcars.head()"
   ]
  },
  {
   "cell_type": "markdown",
   "id": "1c4fa253-991a-4162-8d98-5cb3a797dedd",
   "metadata": {},
   "source": [
    "## Calculate the Average MPG for Each cyl Value:"
   ]
  },
  {
   "cell_type": "code",
   "execution_count": 8,
   "id": "17d5a468-c8cb-4524-9728-28a6990d6736",
   "metadata": {},
   "outputs": [],
   "source": [
    "avgMpgByCyl = mtcars.groupby('cyl')['mpg'].mean()"
   ]
  },
  {
   "cell_type": "code",
   "execution_count": 10,
   "id": "13400d5d-be6b-484b-869e-aac937c7ba49",
   "metadata": {},
   "outputs": [
    {
     "data": {
      "text/plain": [
       "cyl\n",
       "4    26.663636\n",
       "6    19.742857\n",
       "8    15.100000\n",
       "Name: mpg, dtype: float64"
      ]
     },
     "execution_count": 10,
     "metadata": {},
     "output_type": "execute_result"
    }
   ],
   "source": [
    "avgMpgByCyl"
   ]
  },
  {
   "cell_type": "markdown",
   "id": "76bdb0ce-9705-46ab-a7e7-5cfbf935aca1",
   "metadata": {},
   "source": [
    "## Create a Histogram"
   ]
  },
  {
   "cell_type": "code",
   "execution_count": 13,
   "id": "c855bd2e-3714-48cd-94b0-fbfb52d4e80a",
   "metadata": {},
   "outputs": [],
   "source": [
    "import matplotlib.pyplot as plt"
   ]
  },
  {
   "cell_type": "code",
   "execution_count": 15,
   "id": "b85f6963-99cf-4fb0-b166-2490df58a5de",
   "metadata": {},
   "outputs": [
    {
     "data": {
      "image/png": "[encoded data removed]",
      "text/plain": [
       "<Figure size 640x480 with 1 Axes>"
      ]
     },
     "metadata": {},
     "output_type": "display_data"
    }
   ],
   "source": [
    "plt.hist(mtcars['mpg'], bins=10, edgecolor='black')\n",
    "plt.title('Histogram of MPG')\n",
    "plt.xlabel('MPG')\n",
    "plt.ylabel('Frequency')\n",
    "plt.show()"
   ]
  },
  {
   "cell_type": "markdown",
   "id": "dc4f7d9b-82ca-45cc-a6ea-fbb4305fffe5",
   "metadata": {},
   "source": [
    "# Part B"
   ]
  },
  {
   "cell_type": "markdown",
   "id": "c38e74db-1f73-498a-b0b1-adf0cf39e47f",
   "metadata": {},
   "source": [
    "### The chosen dataset is 'Road Casualties in Great Britain 1969–84' which contains the time series giving the monthly totals of car drivers in Great Britain killed or seriously injured Jan 1969 to Dec 1984.\n",
    "Contains the following variables: DriversKilled: car drivers killed, drivers: same as UKDriverDeaths, front: front-seat passengers killed or seriously injured, rear: rear-seat passengers killed or seriously injured, kms: distance driven, PetrolPrice: petrol price, VanKilled: number of van (‘light goods vehicle’) drivers, law: 0/1: was the law in effect that month?"
   ]
  },
  {
   "cell_type": "markdown",
   "id": "2a22179b-bffd-442e-9b2f-401028b20d26",
   "metadata": {},
   "source": [
    "## Citation\n",
    "Harvey, A. C. and Durbin, J. (1986). The effects of seat belt legislation on British road casualties: A case study in structural time series modelling. Journal of the Royal Statistical Society series A, 149, 187–227. doi:10.2307/2981553."
   ]
  },
  {
   "cell_type": "code",
   "execution_count": 23,
   "id": "a169542f-47b4-4058-8848-7ab108a9f731",
   "metadata": {},
   "outputs": [],
   "source": [
    "seatbelt = \"https://vincentarelbundock.github.io/Rdatasets/csv/datasets/Seatbelts.csv\"\n",
    "ukDrivers = pd.read_csv(seatbelt)"
   ]
  },
  {
   "cell_type": "markdown",
   "id": "8013eaf7-0cde-4a55-ba03-f7f3071097f6",
   "metadata": {},
   "source": [
    "## Displaying the head of the dataset"
   ]
  },
  {
   "cell_type": "code",
   "execution_count": 28,
   "id": "a4db6c9d-5c75-4c21-8562-d3d03ba5a912",
   "metadata": {},
   "outputs": [
    {
     "data": {
      "text/html": [
       "<div>\n",
       "<style scoped>\n",
       "    .dataframe tbody tr th:only-of-type {\n",
       "        vertical-align: middle;\n",
       "    }\n",
       "\n",
       "    .dataframe tbody tr th {\n",
       "        vertical-align: top;\n",
       "    }\n",
       "\n",
       "    .dataframe thead th {\n",
       "        text-align: right;\n",
       "    }\n",
       "</style>\n",
       "<table border=\"1\" class=\"dataframe\">\n",
       "  <thead>\n",
       "    <tr style=\"text-align: right;\">\n",
       "      <th></th>\n",
       "      <th>rownames</th>\n",
       "      <th>DriversKilled</th>\n",
       "      <th>drivers</th>\n",
       "      <th>front</th>\n",
       "      <th>rear</th>\n",
       "      <th>kms</th>\n",
       "      <th>PetrolPrice</th>\n",
       "      <th>VanKilled</th>\n",
       "      <th>law</th>\n",
       "    </tr>\n",
       "  </thead>\n",
       "  <tbody>\n",
       "    <tr>\n",
       "      <th>0</th>\n",
       "      <td>1</td>\n",
       "      <td>107</td>\n",
       "      <td>1687</td>\n",
       "      <td>867</td>\n",
       "      <td>269</td>\n",
       "      <td>9059</td>\n",
       "      <td>0.102972</td>\n",
       "      <td>12</td>\n",
       "      <td>0</td>\n",
       "    </tr>\n",
       "    <tr>\n",
       "      <th>1</th>\n",
       "      <td>2</td>\n",
       "      <td>97</td>\n",
       "      <td>1508</td>\n",
       "      <td>825</td>\n",
       "      <td>265</td>\n",
       "      <td>7685</td>\n",
       "      <td>0.102363</td>\n",
       "      <td>6</td>\n",
       "      <td>0</td>\n",
       "    </tr>\n",
       "    <tr>\n",
       "      <th>2</th>\n",
       "      <td>3</td>\n",
       "      <td>102</td>\n",
       "      <td>1507</td>\n",
       "      <td>806</td>\n",
       "      <td>319</td>\n",
       "      <td>9963</td>\n",
       "      <td>0.102062</td>\n",
       "      <td>12</td>\n",
       "      <td>0</td>\n",
       "    </tr>\n",
       "    <tr>\n",
       "      <th>3</th>\n",
       "      <td>4</td>\n",
       "      <td>87</td>\n",
       "      <td>1385</td>\n",
       "      <td>814</td>\n",
       "      <td>407</td>\n",
       "      <td>10955</td>\n",
       "      <td>0.100873</td>\n",
       "      <td>8</td>\n",
       "      <td>0</td>\n",
       "    </tr>\n",
       "    <tr>\n",
       "      <th>4</th>\n",
       "      <td>5</td>\n",
       "      <td>119</td>\n",
       "      <td>1632</td>\n",
       "      <td>991</td>\n",
       "      <td>454</td>\n",
       "      <td>11823</td>\n",
       "      <td>0.101020</td>\n",
       "      <td>10</td>\n",
       "      <td>0</td>\n",
       "    </tr>\n",
       "  </tbody>\n",
       "</table>\n",
       "</div>"
      ],
      "text/plain": [
       "   rownames  DriversKilled  drivers  front  rear    kms  PetrolPrice  \\\n",
       "0         1            107     1687    867   269   9059     0.102972   \n",
       "1         2             97     1508    825   265   7685     0.102363   \n",
       "2         3            102     1507    806   319   9963     0.102062   \n",
       "3         4             87     1385    814   407  10955     0.100873   \n",
       "4         5            119     1632    991   454  11823     0.101020   \n",
       "\n",
       "   VanKilled  law  \n",
       "0         12    0  \n",
       "1          6    0  \n",
       "2         12    0  \n",
       "3          8    0  \n",
       "4         10    0  "
      ]
     },
     "execution_count": 28,
     "metadata": {},
     "output_type": "execute_result"
    }
   ],
   "source": [
    "ukDrivers.head()"
   ]
  },
  {
   "cell_type": "markdown",
   "id": "a3c4e5fc-d543-42e6-b0c5-10df7b07c5f3",
   "metadata": {},
   "source": [
    "## Visualizing the dataset"
   ]
  },
  {
   "cell_type": "markdown",
   "id": "a27fd9b0-9cef-4789-aa2d-bf54c166a443",
   "metadata": {},
   "source": [
    "### Scatter Plot of petrol price vs Drivers killed"
   ]
  },
  {
   "cell_type": "code",
   "execution_count": 43,
   "id": "f8b020f9-7144-4965-8f6a-fbdc28b5d375",
   "metadata": {},
   "outputs": [
    {
     "data": {
      "image/png": "[encoded data removed]",
      "text/plain": [
       "<Figure size 640x480 with 1 Axes>"
      ]
     },
     "metadata": {},
     "output_type": "display_data"
    }
   ],
   "source": [
    "plt.hist(ukDrivers['front'], bins=10, edgecolor='black', alpha=0.7)\n",
    "plt.title('Histogram of Front Seat Passengers Killed/Injured')\n",
    "plt.xlabel('Number of Front Seat Passengers Killed/Injured')\n",
    "plt.ylabel('Frequency')\n",
    "plt.show()"
   ]
  },
  {
   "cell_type": "markdown",
   "id": "f77dcbf5-ad28-42da-bd0d-891d25c75d97",
   "metadata": {},
   "source": [
    "## Rear Seat Passengers Killed/Injured"
   ]
  },
  {
   "cell_type": "code",
   "execution_count": 45,
   "id": "3b951912-c962-49d6-8c7f-efe80e49dd6c",
   "metadata": {},
   "outputs": [
    {
     "data": {
      "image/png": "[encoded data removed]",
      "text/plain": [
       "<Figure size 640x480 with 1 Axes>"
      ]
     },
     "metadata": {},
     "output_type": "display_data"
    }
   ],
   "source": [
    "plt.hist(ukDrivers['rear'], bins=10, edgecolor='black', alpha=0.7, color='orange')\n",
    "plt.title('Histogram of Rear Seat Passengers Killed/Injured')\n",
    "plt.xlabel('Number of Rear Seat Passengers Killed/Injured')\n",
    "plt.ylabel('Frequency')\n",
    "plt.show()"
   ]
  },
  {
   "cell_type": "code",
   "execution_count": null,
   "id": "780e0943-5410-4678-941a-82c3cf4ac004",
   "metadata": {},
   "outputs": [],
   "source": []
  }
 ],
 "metadata": {
  "kernelspec": {
   "display_name": "Python 3 (ipykernel)",
   "language": "python",
   "name": "python3"
  },
  "language_info": {
   "codemirror_mode": {
    "name": "ipython",
    "version": 3
   },
   "file_extension": ".py",
   "mimetype": "text/x-python",
   "name": "python",
   "nbconvert_exporter": "python",
   "pygments_lexer": "ipython3",
   "version": "3.12.2"
  }
 },
 "nbformat": 4,
 "nbformat_minor": 5
}
