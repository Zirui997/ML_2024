{
 "cells": [
  {
   "cell_type": "code",
   "execution_count": 2,
   "metadata": {},
   "outputs": [],
   "source": [
    "# Calorie Functions\n",
    "\n",
    "def calculate_calories(age: int, weight: float, height: float, gender: str) -> float:\n",
    "    \"\"\"\n",
    "    Calculate the Basal Metabolic Rate (BMR) using the Mifflin-St Jeor Equation.\n",
    "    \"\"\"\n",
    "    if gender == 'male':\n",
    "        bmr = 10 * weight + 6.25 * height - 5 * age + 5\n",
    "    elif gender == 'female':\n",
    "        bmr = 10 * weight + 6.25 * height - 5 * age - 161\n",
    "    else:\n",
    "        raise ValueError(\"Gender must be 'male' or 'female'.\")\n",
    "    return bmr\n",
    "\n",
    "def adjust_calories(bmr: float, goal: str = 'maintain') -> float:\n",
    "    \"\"\"\n",
    "    Adjust the calorie requirement based on the goal: 'lose', 'maintain', or 'gain'.\n",
    "    \"\"\"\n",
    "    if goal == 'lose':\n",
    "        return bmr - 500\n",
    "    elif goal == 'maintain':\n",
    "        return bmr\n",
    "    elif goal == 'gain':\n",
    "        return bmr + 500\n",
    "    else:\n",
    "        raise ValueError(\"Goal must be 'lose', 'maintain', or 'gain'.\")\n"
   ]
  },
  {
   "cell_type": "code",
   "execution_count": 3,
   "metadata": {},
   "outputs": [],
   "source": [
    "# Macronutrient Calculation\n",
    "\n",
    "def calculate_macros(adjusted_calories: float) -> dict:\n",
    "    \"\"\"\n",
    "    Calculate the daily macronutrient breakdown based on the total calorie intake.\n",
    "    \"\"\"\n",
    "    proteins = (adjusted_calories * 0.30) / 4  # 30% from proteins\n",
    "    fats = (adjusted_calories * 0.25) / 9      # 25% from fats\n",
    "    carbs = (adjusted_calories * 0.45) / 4     # 45% from carbohydrates\n",
    "    \n",
    "    return {\n",
    "        'Proteins (g)': round(proteins, 2),\n",
    "        'Fats (g)': round(fats, 2),\n",
    "        'Carbohydrates (g)': round(carbs, 2)\n",
    "    }\n"
   ]
  },
  {
   "cell_type": "code",
   "execution_count": 4,
   "metadata": {},
   "outputs": [],
   "source": [
    "# Meal Plan Calculation\n",
    "\n",
    "import pandas as pd\n",
    "\n",
    "def meal_plan_calculator(age: int, weight: float, height: float, gender: str, goal: str = 'maintain') -> pd.DataFrame:\n",
    "    \"\"\"\n",
    "    Generate a meal plan with BMR, adjusted calories, and macronutrient breakdown.\n",
    "    \"\"\"\n",
    "    bmr = calculate_calories(age, weight, height, gender)\n",
    "    adjusted_calories = adjust_calories(bmr, goal)\n",
    "    macros = calculate_macros(adjusted_calories)\n",
    "\n",
    "    # Creating a dictionary with all the necessary data\n",
    "    data = {\n",
    "        'Age': [age],\n",
    "        'Weight (kg)': [weight],\n",
    "        'Height (cm)': [height],\n",
    "        'Gender': [gender],\n",
    "        'Goal': [goal],\n",
    "        'BMR': [bmr],\n",
    "        'Adjusted Calories': [adjusted_calories],\n",
    "        'Proteins (g)': [macros['Proteins (g)']],\n",
    "        'Fats (g)': [macros['Fats (g)']],\n",
    "        'Carbohydrates (g)': [macros['Carbohydrates (g)']]\n",
    "    }\n",
    "\n",
    "    # Convert dictionary to pandas DataFrame for table format\n",
    "    result_df = pd.DataFrame(data)\n",
    "    \n",
    "    return result_df\n"
   ]
  },
  {
   "cell_type": "code",
   "execution_count": 6,
   "metadata": {},
   "outputs": [],
   "source": [
    "# Batch Calculation\n",
    "\n",
    "def batch_calculator(clients: list) -> pd.DataFrame:\n",
    "    \"\"\"\n",
    "    Process a list of clients and return their meal plans in a table format.\n",
    "    \"\"\"\n",
    "    all_clients_data = []\n",
    "\n",
    "    for client in clients:\n",
    "        summary = meal_plan_calculator(\n",
    "            client['age'],\n",
    "            client['weight'],\n",
    "            client['height'],\n",
    "            client['gender'],\n",
    "            client['goal']\n",
    "        )\n",
    "        # Convert the result DataFrame to a dictionary and append to list\n",
    "        all_clients_data.append(summary.to_dict(orient='records')[0])\n",
    "\n",
    "    # Convert the list of dictionaries to a pandas DataFrame\n",
    "    clients_df = pd.DataFrame(all_clients_data)\n",
    "    \n",
    "    return clients_df\n"
   ]
  },
  {
   "cell_type": "code",
   "execution_count": 7,
   "metadata": {},
   "outputs": [
    {
     "name": "stdout",
     "output_type": "stream",
     "text": [
      "   Age  Weight (kg)  Height (cm)  Gender      Goal      BMR  \\\n",
      "0   30         70.0        175.0  female  maintain  1482.75   \n",
      "1   40         80.0        180.0    male      lose  1730.00   \n",
      "2   50         90.0        185.0  female      gain  1645.25   \n",
      "3   60        100.0        190.0    male  maintain  1892.50   \n",
      "\n",
      "   Adjusted Calories  Proteins (g)  Fats (g)  Carbohydrates (g)  \n",
      "0            1482.75        111.21     41.19             166.81  \n",
      "1            1230.00         92.25     34.17             138.38  \n",
      "2            2145.25        160.89     59.59             241.34  \n",
      "3            1892.50        141.94     52.57             212.91  \n"
     ]
    }
   ],
   "source": [
    "clients = [\n",
    "    {'age': 30, 'weight': 70.0, 'height': 175.0, 'gender': 'female', 'goal': 'maintain'},\n",
    "     {'age': 40, 'weight': 80.0, 'height': 180.0, 'gender': 'male', 'goal': 'lose'}, \n",
    "      {'age': 50, 'weight': 90.0, 'height': 185.0, 'gender': 'female', 'goal': 'gain'}, \n",
    "       {'age': 60, 'weight': 100.0, 'height': 190.0, 'gender': 'male', 'goal': 'maintain'}\n",
    "]\n",
    "\n",
    "meal_plans = batch_calculator(clients)\n",
    "print(meal_plans)"
   ]
  }
 ],
 "metadata": {
  "kernelspec": {
   "display_name": "Python 3",
   "language": "python",
   "name": "python3"
  },
  "language_info": {
   "codemirror_mode": {
    "name": "ipython",
    "version": 3
   },
   "file_extension": ".py",
   "mimetype": "text/x-python",
   "name": "python",
   "nbconvert_exporter": "python",
   "pygments_lexer": "ipython3",
   "version": "3.10.11"
  }
 },
 "nbformat": 4,
 "nbformat_minor": 2
}
